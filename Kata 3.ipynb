{
 "cells": [
  {
   "cell_type": "markdown",
   "metadata": {},
   "source": [
    "Para este ejercicio, escribirás una lógica condicional que imprima una advertencia si un asteroide se acerca a la Tierra demasiado rápido. La velocidad del asteroide varía dependiendo de lo cerca que esté del sol, y cualquier velocidad superior a 25 kilómetros por segundo (km/s) merece una advertencia.\n",
    "\n",
    "Un asteroide se acerca, y viaja a una velocidad de 49 km/s."
   ]
  },
  {
   "cell_type": "code",
   "execution_count": 1,
   "metadata": {},
   "outputs": [
    {
     "name": "stdout",
     "output_type": "stream",
     "text": [
      "¡Advertencia! Un asteroide se acerca a una velocidad de 49 Kilómetros por segundo.\n"
     ]
    }
   ],
   "source": [
    "velocity = 49\n",
    "warning = False\n",
    "if(velocity > 25):\n",
    "    warning = True\n",
    "\n",
    "if(warning):\n",
    "    print(\"¡Advertencia! Un asteroide se acerca a una velocidad de \"+ str(velocity) +\" Kilómetros por segundo.\")"
   ]
  },
  {
   "cell_type": "markdown",
   "metadata": {},
   "source": [
    "Si un asteroide entra en la atmósfera de la Tierra a una velocidad mayor o igual a 20 km/s, a veces produce un rayo de luz que se puede ver desde la Tierra. Escribe la lógica condicional que usa declaraciones if, else, y elif para alertar a las personas de todo el mundo que deben buscar un asteroide en el cielo. ¡Hay uno que se dirige a la tierra ahora a una velocidad de 19 km/s!"
   ]
  },
  {
   "cell_type": "code",
   "execution_count": 12,
   "metadata": {},
   "outputs": [
    {
     "name": "stdout",
     "output_type": "stream",
     "text": [
      "Hay un asteroide dirigiendose a la tierra a una velocidad de 19 k/s, pero no puedes verlo :(\n"
     ]
    }
   ],
   "source": [
    "velocity = 19\n",
    "isVisible = False\n",
    "\n",
    "if(velocity >= 20):\n",
    "    isVisible = True\n",
    "else:\n",
    "    isVisible = False\n",
    "\n",
    "if(isVisible):\n",
    "    print(\"Hay un asteroide dirigiendose a la tierra a una velocidad de \"+str(velocity)+\" ¡Tienes que verlo!\")\n",
    "else:\n",
    "    print(\"Hay un asteroide dirigiendose a la tierra a una velocidad de \"+str(velocity)+\" k/s, pero no puedes verlo :(\")"
   ]
  },
  {
   "cell_type": "code",
   "execution_count": 23,
   "metadata": {},
   "outputs": [
    {
     "name": "stdout",
     "output_type": "stream",
     "text": [
      "¡Ojo! Un asteroide se acerca a la tierra, puedes observalo sin peligro alguno.\n"
     ]
    }
   ],
   "source": [
    "velocity = 26\n",
    "size = 40\n",
    "\n",
    "if(velocity > 25):\n",
    "    print(\"¡Advertencia! Un asteroide se acerca a la tierra a una velocidad de \"+ str(velocity) +\" k/s y un tamaño de \"+str(size)+\" Kilómetros.\")\n",
    "elif(velocity > 19 and velocity <=25):\n",
    "    print(\"¡Ojo! Un asteroide se acerca a la tierra, puedes observalo sin peligro alguno.\")\n",
    "else:\n",
    "    print(\"Nada por aquí.\")\n"
   ]
  }
 ],
 "metadata": {
  "interpreter": {
   "hash": "6e860bec83ecabe6b54fb3d281d5875f793336acab0ee21ff61a18095e3b9773"
  },
  "kernelspec": {
   "display_name": "Python 3.10.2 64-bit",
   "language": "python",
   "name": "python3"
  },
  "language_info": {
   "codemirror_mode": {
    "name": "ipython",
    "version": 3
   },
   "file_extension": ".py",
   "mimetype": "text/x-python",
   "name": "python",
   "nbconvert_exporter": "python",
   "pygments_lexer": "ipython3",
   "version": "3.10.2"
  },
  "orig_nbformat": 4
 },
 "nbformat": 4,
 "nbformat_minor": 2
}
